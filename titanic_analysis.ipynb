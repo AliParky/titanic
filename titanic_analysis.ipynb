{
 "cells": [
  {
   "cell_type": "code",
   "execution_count": null,
   "metadata": {
    "vscode": {
     "languageId": "plaintext"
    }
   },
   "outputs": [],
   "source": [
    "# Load Dataset\n",
    "train_data = open('train.csv').readlines()\n",
    "test_data = open('test.csv').readlines()\n",
    "\n",
    "# Separate header and data\n",
    "train_header = train_data[0].strip().split(',')\n",
    "train_data = [line.strip().split(',') for line in train_data[1:]]"
   ]
  }
 ],
 "metadata": {
  "language_info": {
   "name": "python"
  }
 },
 "nbformat": 4,
 "nbformat_minor": 2
}
