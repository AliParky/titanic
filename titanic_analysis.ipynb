{
 "cells": [
  {
   "cell_type": "code",
   "execution_count": null,
   "metadata": {
    "vscode": {
     "languageId": "plaintext"
    }
   },
   "outputs": [],
   "source": [
    "# Load Dataset\n",
    "train_data = open('train.csv').readlines()\n",
    "test_data = open('test.csv').readlines()\n",
    "\n",
    "# Separate header and data\n",
    "train_header = train_data[0].strip().split(',')\n",
    "train_data = [line.strip().split(',') for line in train_data[1:]]\n",
    "test_header = test_data[0].strip().split(',')\n",
    "test_data = [line.strip().split(',') for line in test_data[1:]]\n"
   ]
  }
 ],
 "metadata": {
  "language_info": {
   "name": "python"
  }
 },
 "nbformat": 4,
 "nbformat_minor": 2
}
