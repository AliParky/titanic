{
 "cells": [
  {
   "cell_type": "code",
   "execution_count": null,
   "metadata": {
    "vscode": {
     "languageId": "plaintext"
    }
   },
   "outputs": [],
   "source": [
    "import pandas as pd\n",
    "\n",
    "# Load Dataset\n",
    "train_df = pd.read_csv('train.csv')\n",
    "test_df = pd.read_csv('test.csv')\n",
    "\n",
    "# Data Overview\n",
    "print(train_df.head())\n",
    "print(train_df.info())\n",
    "print(train_df.describe())\n",
    "\n",
    "# Encode categorical variables\n",
    "label_encoder = LabelEncoder()\n",
    "train_df['Sex'] = label_encoder.fit_transform(train_df['Sex'])\n",
    "test_df['Sex'] = label_encoder.transform(test_df['Sex'])\n",
    "\n",
    "# Normalize numerical features\n",
    "scaler = StandardScaler()\n",
    "\n",
    "# Data Visualization\n",
    "sns.countplot(x='Survived', data=train_df)\n",
    "plt.show()"
   ]
  }
 ],
 "metadata": {
  "language_info": {
   "name": "python"
  }
 },
 "nbformat": 4,
 "nbformat_minor": 2
}
